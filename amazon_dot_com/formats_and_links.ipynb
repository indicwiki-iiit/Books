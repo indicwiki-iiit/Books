{
 "cells": [
  {
   "cell_type": "code",
   "execution_count": 5,
   "id": "215b1ae1",
   "metadata": {},
   "outputs": [],
   "source": [
    "import pandas as pd\n",
    "import pickle\n",
    "from selenium import webdriver\n",
    "import time\n",
    "import furl\n",
    "from selenium.webdriver.common.by import By\n",
    "from selenium.webdriver.support.ui import WebDriverWait\n",
    "from selenium.webdriver.support import expected_conditions as EC"
   ]
  },
  {
   "cell_type": "code",
   "execution_count": 3,
   "id": "5ee659e5",
   "metadata": {},
   "outputs": [],
   "source": [
    "p = pickle.load(open(\"books_v9.pkl\", \"rb\"))"
   ]
  },
  {
   "cell_type": "code",
   "execution_count": 4,
   "id": "537d0732",
   "metadata": {},
   "outputs": [],
   "source": [
    "driver = webdriver.Chrome(executable_path='/home/pybeast/chromedriver')"
   ]
  },
  {
   "cell_type": "code",
   "execution_count": 9,
   "id": "eb9c3f67",
   "metadata": {},
   "outputs": [
    {
     "name": "stdout",
     "output_type": "stream",
     "text": [
      "SUCCESS #1\n"
     ]
    }
   ],
   "source": [
    "d = dict()\n",
    "cnt = 0\n",
    "for i in range(len(p))[0:1500]:\n",
    "    cnt += 1\n",
    "    try:\n",
    "        amazon_url = \"https://www.amazon.com/advanced-search/books\"\n",
    "        driver.get(amazon_url)\n",
    "        try:\n",
    "            element = WebDriverWait(driver, 10).until(\n",
    "                EC.presence_of_element_located((By.ID, \"field-isbn\"))\n",
    "            )\n",
    "        except:\n",
    "            pass\n",
    "        \n",
    "        isbn_input = driver.find_element_by_id(\"field-isbn\")\n",
    "        isbn = p.loc[i]['isbn_13']\n",
    "        isbn_input.send_keys(isbn)\n",
    "        search_button = driver.find_element_by_name(\"Adv-Srch-Books-Submit\")\n",
    "        search_button.click()\n",
    "        time.sleep(3)\n",
    "        \n",
    "        d[p.loc[i]['isbn_13']] = dict()\n",
    "        x = driver.find_element_by_xpath(\"//div[@class='sg-col sg-col-4-of-12 sg-col-8-of-16 sg-col-12-of-20']\")\n",
    "        for j in x.find_elements_by_xpath(\".//a[@class='a-size-base a-link-normal a-text-bold']\"):\n",
    "            url = furl.furl(j.get_attribute('href')).remove(args=True, fragment=True).url\n",
    "            d[p.loc[i]['isbn_13']][j.text.strip()] = url\n",
    "        for j in x.find_elements_by_xpath(\".//a[@class='a-size-small a-link-normal']\"):\n",
    "            url = furl.furl(j.get_attribute('href')).remove(args=True, fragment=True).url\n",
    "            d[p.loc[i]['isbn_13']][j.text.strip()] = url   \n",
    "        print(\"SUCCESS #\" + str(cnt))\n",
    "    except:\n",
    "        print(\"FAILED #\" + str(cnt))"
   ]
  },
  {
   "cell_type": "code",
   "execution_count": null,
   "id": "9940fbcc",
   "metadata": {},
   "outputs": [],
   "source": [
    "f = open(\"generated_file.txt\", \"w\")\n",
    "f.write(str(d))\n",
    "f.close()"
   ]
  }
 ],
 "metadata": {
  "kernelspec": {
   "display_name": "Python 3",
   "language": "python",
   "name": "python3"
  },
  "language_info": {
   "codemirror_mode": {
    "name": "ipython",
    "version": 3
   },
   "file_extension": ".py",
   "mimetype": "text/x-python",
   "name": "python",
   "nbconvert_exporter": "python",
   "pygments_lexer": "ipython3",
   "version": "3.7.8"
  }
 },
 "nbformat": 4,
 "nbformat_minor": 5
}
