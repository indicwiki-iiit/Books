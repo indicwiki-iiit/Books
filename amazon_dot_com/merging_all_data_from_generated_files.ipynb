{
 "cells": [
  {
   "cell_type": "code",
   "execution_count": 1,
   "id": "36c55d0a",
   "metadata": {},
   "outputs": [],
   "source": [
    "import pandas as pd\n",
    "import pickle\n",
    "import ast"
   ]
  },
  {
   "cell_type": "code",
   "execution_count": 2,
   "id": "b49c8d98",
   "metadata": {},
   "outputs": [],
   "source": [
    "merged_dict = dict()"
   ]
  },
  {
   "cell_type": "code",
   "execution_count": 12,
   "id": "64fea5e7",
   "metadata": {},
   "outputs": [],
   "source": [
    "contents = open(\"generated_files/0001-3000.txt\", \"r\", encoding=\"iso-8859-15\").read()\n",
    "d = ast.literal_eval(contents)\n",
    "for i in d:\n",
    "    merged_dict[i] = d[i]"
   ]
  },
  {
   "cell_type": "code",
   "execution_count": 13,
   "id": "8d90d68b",
   "metadata": {},
   "outputs": [],
   "source": [
    "contents = open(\"generated_files/3001-3100.txt\", \"r\", encoding=\"iso-8859-15\").read()\n",
    "d = ast.literal_eval(contents)\n",
    "for i in d:\n",
    "    merged_dict[i] = d[i]"
   ]
  },
  {
   "cell_type": "code",
   "execution_count": 14,
   "id": "6b3996f3",
   "metadata": {},
   "outputs": [],
   "source": [
    "contents = open(\"generated_files/3101-3300.txt\", \"r\", encoding=\"iso-8859-15\").read()\n",
    "d = ast.literal_eval(contents)\n",
    "for i in d:\n",
    "    merged_dict[i] = d[i]"
   ]
  },
  {
   "cell_type": "code",
   "execution_count": 15,
   "id": "131da8e5",
   "metadata": {},
   "outputs": [],
   "source": [
    "contents = open(\"generated_files/3301-3850.txt\", \"r\", encoding=\"iso-8859-15\").read()\n",
    "d = ast.literal_eval(contents)\n",
    "for i in d:\n",
    "    merged_dict[i] = d[i]"
   ]
  },
  {
   "cell_type": "code",
   "execution_count": 16,
   "id": "58ce8fee",
   "metadata": {},
   "outputs": [],
   "source": [
    "contents = open(\"generated_files/3851-4040.txt\", \"r\", encoding=\"iso-8859-15\").read()\n",
    "d = ast.literal_eval(contents)\n",
    "for i in d:\n",
    "    merged_dict[i] = d[i]"
   ]
  },
  {
   "cell_type": "code",
   "execution_count": 17,
   "id": "f6c16b18",
   "metadata": {},
   "outputs": [],
   "source": [
    "contents = open(\"generated_files/4041-4457.txt\", \"r\", encoding=\"iso-8859-15\").read()\n",
    "d = ast.literal_eval(contents)\n",
    "for i in d:\n",
    "    merged_dict[i] = d[i]"
   ]
  },
  {
   "cell_type": "code",
   "execution_count": 18,
   "id": "6b1b2a3b",
   "metadata": {},
   "outputs": [],
   "source": [
    "contents = open(\"generated_files/4457-6292.txt\", \"r\", encoding=\"iso-8859-15\").read()\n",
    "d = ast.literal_eval(contents)\n",
    "for i in d:\n",
    "    merged_dict[i] = d[i]"
   ]
  },
  {
   "cell_type": "code",
   "execution_count": 19,
   "id": "c7c19125",
   "metadata": {},
   "outputs": [],
   "source": [
    "contents = open(\"generated_files/6290-6500.txt\", \"r\", encoding=\"iso-8859-15\").read()\n",
    "d = ast.literal_eval(contents)\n",
    "for i in d:\n",
    "    merged_dict[i] = d[i]"
   ]
  },
  {
   "cell_type": "code",
   "execution_count": 21,
   "id": "e1f550fd",
   "metadata": {},
   "outputs": [
    {
     "name": "stdout",
     "output_type": "stream",
     "text": [
      "6500\n"
     ]
    }
   ],
   "source": [
    "print(len(merged_dict))"
   ]
  },
  {
   "cell_type": "code",
   "execution_count": 43,
   "id": "075cdf76",
   "metadata": {},
   "outputs": [],
   "source": [
    "p = pickle.load(open('../worldcat_dot_org/books_v8.pkl', \"rb\"))"
   ]
  },
  {
   "cell_type": "code",
   "execution_count": 44,
   "id": "a98427e2",
   "metadata": {},
   "outputs": [
    {
     "name": "stdout",
     "output_type": "stream",
     "text": [
      "<class 'pandas.core.frame.DataFrame'>\n",
      "RangeIndex: 6500 entries, 0 to 6499\n",
      "Data columns (total 45 columns):\n",
      " #   Column                              Non-Null Count  Dtype \n",
      "---  ------                              --------------  ----- \n",
      " 0   google_books_id                     6500 non-null   object\n",
      " 1   isbn_13                             6500 non-null   object\n",
      " 2   isbn_10                             6159 non-null   object\n",
      " 3   book_title                          6500 non-null   object\n",
      " 4   subtitle                            2288 non-null   object\n",
      " 5   authors                             6433 non-null   object\n",
      " 6   publisher                           6487 non-null   object\n",
      " 7   published_date                      6491 non-null   object\n",
      " 8   page_count                          6424 non-null   object\n",
      " 9   categories                          6403 non-null   object\n",
      " 10  small_thumbnail_link                6225 non-null   object\n",
      " 11  large_thumbnail_link                6223 non-null   object\n",
      " 12  average_rating                      4846 non-null   object\n",
      " 13  ratings_count                       4843 non-null   object\n",
      " 14  maturity_rating                     6489 non-null   object\n",
      " 15  description                         6270 non-null   object\n",
      " 16  language                            6493 non-null   object\n",
      " 17  preview_link                        6498 non-null   object\n",
      " 18  info_link                           6499 non-null   object\n",
      " 19  canonical_volume_link               6499 non-null   object\n",
      " 20  self_link                           6499 non-null   object\n",
      " 21  etag                                6500 non-null   object\n",
      " 22  ebook_availability_on_google_books  6500 non-null   object\n",
      " 23  epub_availability_on_google_books   6500 non-null   object\n",
      " 24  pdf_availability_on_google_books    6500 non-null   object\n",
      " 25  goodreads_rating                    6500 non-null   object\n",
      " 26  goodreads_ratings_count             6500 non-null   object\n",
      " 27  goodreads_awards                    6500 non-null   object\n",
      " 28  Unnamed: 28                         6 non-null      object\n",
      " 29  Unnamed: 29                         4 non-null      object\n",
      " 30  Unnamed: 30                         2 non-null      object\n",
      " 31  goodreads_link                      6500 non-null   object\n",
      " 32  amazon_link                         6500 non-null   object\n",
      " 33  librarything_url                    6500 non-null   object\n",
      " 34  librarything_members                6500 non-null   object\n",
      " 35  librarything_avg_rating             6500 non-null   object\n",
      " 36  librarything_reviews                6500 non-null   object\n",
      " 37  librarything_popularity             6500 non-null   object\n",
      " 38  librarything_conversations          6500 non-null   object\n",
      " 39  librarything_mentions               6500 non-null   object\n",
      " 40  librarything_characters             6500 non-null   object\n",
      " 41  librarything_book_summary           6500 non-null   object\n",
      " 42  worldcat_url                        6500 non-null   object\n",
      " 43  worldcat_oclc_number                6500 non-null   object\n",
      " 44  worldcat_author_more_works          6500 non-null   object\n",
      "dtypes: object(45)\n",
      "memory usage: 2.2+ MB\n"
     ]
    }
   ],
   "source": [
    "p.info()"
   ]
  },
  {
   "cell_type": "code",
   "execution_count": 45,
   "id": "262fdc51",
   "metadata": {},
   "outputs": [
    {
     "data": {
      "text/plain": [
       "{'item_weight': '14.4 ounces',\n",
       " 'best_sellers_rank': {'Books (See Top 100 in Books)': '3,863,331',\n",
       "  'Contemporary Literature & Fiction': '77,623',\n",
       "  'Literary Fiction (Books)': '159,084'},\n",
       " 'kindle_link': 'https://www.amazon.com/Gilead-Novel-Marilynne-Robinson-ebook/dp/B000O76NMS',\n",
       " 'audiobook_link': 'https://www.amazon.com/Gilead-Marilynne-Robinson-audiobook/dp/B0009AVQ9U',\n",
       " 'hardcover_link': 'https://www.amazon.com/Gilead-Marilynne-Robinson/dp/0002005883/',\n",
       " 'paperback_link': 'https://www.amazon.com/Gilead-Novel-Marilynne-Robinson/dp/1250784018',\n",
       " 'audio_cd_link': 'https://www.amazon.com/Gilead-Novel-Marilynne-Robinson/dp/1593978227',\n",
       " 'pub_date': 'November 8, 2004',\n",
       " 'publisher': 'HarperCollins Publishers',\n",
       " 'isbn_10': '0002005883',\n",
       " 'dimensions': '',\n",
       " 'print_length': '247 pages'}"
      ]
     },
     "execution_count": 45,
     "metadata": {},
     "output_type": "execute_result"
    }
   ],
   "source": [
    "merged_dict[p.loc[0]['isbn_13']]"
   ]
  },
  {
   "cell_type": "code",
   "execution_count": 46,
   "id": "e7e9e26c",
   "metadata": {},
   "outputs": [],
   "source": [
    "p['amazon_formats_available'] = \"\"\n",
    "p['amazon_kindle_link'] = \"\"\n",
    "p['amazon_audiobook_link'] = \"\"\n",
    "p['amazon_hardcover_link'] = \"\"\n",
    "p['amazon_paperback_link'] = \"\"\n",
    "p['amazon_mass_market_paperback_link'] = \"\"\n",
    "p['amazon_audio_cd_link'] = \"\""
   ]
  },
  {
   "cell_type": "code",
   "execution_count": 47,
   "id": "57c20d00",
   "metadata": {},
   "outputs": [
    {
     "name": "stdout",
     "output_type": "stream",
     "text": [
      "<class 'pandas.core.frame.DataFrame'>\n",
      "RangeIndex: 6500 entries, 0 to 6499\n",
      "Data columns (total 52 columns):\n",
      " #   Column                              Non-Null Count  Dtype \n",
      "---  ------                              --------------  ----- \n",
      " 0   google_books_id                     6500 non-null   object\n",
      " 1   isbn_13                             6500 non-null   object\n",
      " 2   isbn_10                             6159 non-null   object\n",
      " 3   book_title                          6500 non-null   object\n",
      " 4   subtitle                            2288 non-null   object\n",
      " 5   authors                             6433 non-null   object\n",
      " 6   publisher                           6487 non-null   object\n",
      " 7   published_date                      6491 non-null   object\n",
      " 8   page_count                          6424 non-null   object\n",
      " 9   categories                          6403 non-null   object\n",
      " 10  small_thumbnail_link                6225 non-null   object\n",
      " 11  large_thumbnail_link                6223 non-null   object\n",
      " 12  average_rating                      4846 non-null   object\n",
      " 13  ratings_count                       4843 non-null   object\n",
      " 14  maturity_rating                     6489 non-null   object\n",
      " 15  description                         6270 non-null   object\n",
      " 16  language                            6493 non-null   object\n",
      " 17  preview_link                        6498 non-null   object\n",
      " 18  info_link                           6499 non-null   object\n",
      " 19  canonical_volume_link               6499 non-null   object\n",
      " 20  self_link                           6499 non-null   object\n",
      " 21  etag                                6500 non-null   object\n",
      " 22  ebook_availability_on_google_books  6500 non-null   object\n",
      " 23  epub_availability_on_google_books   6500 non-null   object\n",
      " 24  pdf_availability_on_google_books    6500 non-null   object\n",
      " 25  goodreads_rating                    6500 non-null   object\n",
      " 26  goodreads_ratings_count             6500 non-null   object\n",
      " 27  goodreads_awards                    6500 non-null   object\n",
      " 28  Unnamed: 28                         6 non-null      object\n",
      " 29  Unnamed: 29                         4 non-null      object\n",
      " 30  Unnamed: 30                         2 non-null      object\n",
      " 31  goodreads_link                      6500 non-null   object\n",
      " 32  amazon_link                         6500 non-null   object\n",
      " 33  librarything_url                    6500 non-null   object\n",
      " 34  librarything_members                6500 non-null   object\n",
      " 35  librarything_avg_rating             6500 non-null   object\n",
      " 36  librarything_reviews                6500 non-null   object\n",
      " 37  librarything_popularity             6500 non-null   object\n",
      " 38  librarything_conversations          6500 non-null   object\n",
      " 39  librarything_mentions               6500 non-null   object\n",
      " 40  librarything_characters             6500 non-null   object\n",
      " 41  librarything_book_summary           6500 non-null   object\n",
      " 42  worldcat_url                        6500 non-null   object\n",
      " 43  worldcat_oclc_number                6500 non-null   object\n",
      " 44  worldcat_author_more_works          6500 non-null   object\n",
      " 45  amazon_formats_available            6500 non-null   object\n",
      " 46  amazon_kindle_link                  6500 non-null   object\n",
      " 47  amazon_audiobook_link               6500 non-null   object\n",
      " 48  amazon_hardcover_link               6500 non-null   object\n",
      " 49  amazon_paperback_link               6500 non-null   object\n",
      " 50  amazon_mass_market_paperback_link   6500 non-null   object\n",
      " 51  amazon_audio_cd_link                6500 non-null   object\n",
      "dtypes: object(52)\n",
      "memory usage: 2.6+ MB\n"
     ]
    }
   ],
   "source": [
    "p.info()"
   ]
  },
  {
   "cell_type": "code",
   "execution_count": 48,
   "id": "b35cfc2c",
   "metadata": {},
   "outputs": [],
   "source": [
    "# Adding amazon_formats available to pkl file\n",
    "for i in range(len(p)):\n",
    "    isbn = p.loc[i]['isbn_13']\n",
    "    formats_available = list()\n",
    "    if 'kindle_link' in merged_dict[isbn]:\n",
    "        formats_available.append('Kindle')\n",
    "        p.loc[i]['amazon_kindle_link'] = merged_dict[isbn]['kindle_link']\n",
    "    if 'audiobook_link' in merged_dict[isbn]:\n",
    "        formats_available.append('Audiobook')\n",
    "        p.loc[i]['amazon_audiobook_link'] = merged_dict[isbn]['audiobook_link']\n",
    "    if 'hardcover_link' in merged_dict[isbn]:\n",
    "        formats_available.append('Hardcover')\n",
    "        p.loc[i]['amazon_hardcover_link'] = merged_dict[isbn]['hardcover_link']\n",
    "    if 'paperback_link' in merged_dict[isbn]:\n",
    "        formats_available.append('Paperback')\n",
    "        p.loc[i]['amazon_paperback_link'] = merged_dict[isbn]['paperback_link']\n",
    "    if 'mass_market_paperback_link' in merged_dict[isbn]:\n",
    "        formats_available.append('Mass market paperback')\n",
    "        p.loc[i]['amazon_mass_market_paperback_link'] = merged_dict[isbn]['mass_market_paperback_link']\n",
    "    if 'audio_cd_link' in merged_dict[isbn]:\n",
    "        formats_available.append('Audio CD')\n",
    "        p.loc[i]['amazon_audio_cd_link'] = merged_dict[isbn]['audio_cd_link']\n",
    "    \n",
    "    if formats_available != []:\n",
    "        p.loc[i]['amazon_formats_available'] = formats_available\n",
    "    else:\n",
    "        p.loc[i]['amazon_formats_available'] = \"\""
   ]
  },
  {
   "cell_type": "code",
   "execution_count": 50,
   "id": "6380f1f8",
   "metadata": {},
   "outputs": [
    {
     "name": "stdout",
     "output_type": "stream",
     "text": [
      "831\n"
     ]
    }
   ],
   "source": [
    "# 831 books have different web page design\n",
    "cnt = 0\n",
    "for i in range(len(p)):\n",
    "    if p.loc[i]['amazon_formats_available'] == \"\":\n",
    "        cnt += 1\n",
    "print(cnt)"
   ]
  },
  {
   "cell_type": "code",
   "execution_count": 51,
   "id": "bb7a6a4d",
   "metadata": {},
   "outputs": [],
   "source": [
    "pickle.dump(p, open(\"books_v9.pkl\", \"wb\"))"
   ]
  }
 ],
 "metadata": {
  "kernelspec": {
   "display_name": "Python 3",
   "language": "python",
   "name": "python3"
  },
  "language_info": {
   "codemirror_mode": {
    "name": "ipython",
    "version": 3
   },
   "file_extension": ".py",
   "mimetype": "text/x-python",
   "name": "python",
   "nbconvert_exporter": "python",
   "pygments_lexer": "ipython3",
   "version": "3.7.8"
  }
 },
 "nbformat": 4,
 "nbformat_minor": 5
}
