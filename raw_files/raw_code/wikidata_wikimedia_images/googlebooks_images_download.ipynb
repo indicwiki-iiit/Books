{
 "cells": [
  {
   "cell_type": "markdown",
   "metadata": {},
   "source": [
    "### Code used to download images as per their ISBN IDs from Google Books\n",
    "\n",
    "However, this wasn't really useful since these images weren't allowed for fair use by Wikimedia Commons, so we had to search for book covers on Wikimedia Commons and use them ( the code for this is in the other notebook in this directory )."
   ]
  },
  {
   "cell_type": "code",
   "execution_count": null,
   "metadata": {},
   "outputs": [],
   "source": [
    "\"\"\"\n",
    "@author: Pranav\n",
    "\"\"\"\n",
    "\n",
    "from selenium import webdriver\n",
    "from time import sleep\n",
    "from webdriver_manager.chrome import ChromeDriverManager\n",
    "from datetime import date \n",
    "import pickle\n",
    "import urllib.request\n",
    "\n",
    "df = pickle.load(open('merged_pickle_v2.pkl','rb'))\n",
    "driver = webdriver.Chrome(ChromeDriverManager().install())\n",
    "\n",
    "nullcount = 0\n",
    "\n",
    "for i in range(5270,6500):\n",
    "    print(\"At #{}\".format(i),end='  ')\n",
    "    isbn = df.iloc[i]['isbn_13']\n",
    "    thum = df.iloc[i]['large_thumbnail_link']\n",
    "    \n",
    "    if thum=='':\n",
    "        nullcount +=1\n",
    "        print(\"Thumbnail Link is Null. Null Count is {}\".format(nullcount))\n",
    "        continue\n",
    "    else:\n",
    "        name_str = \"ISBN-\"+str(isbn)+\".jpg\"\n",
    "        try:\n",
    "            driver.get(thum)\n",
    "            img = driver.find_element_by_xpath('html[1]/body[1]/img[1]')\n",
    "            src = img.get_attribute('src')\n",
    "            print(name_str)\n",
    "            urllib.request.urlretrieve(src, name_str)\n",
    "            print(\"Image downloaded successfully.\")\n",
    "        except:\n",
    "            print(\"Image download FAILED.\")\n",
    "        \n",
    "driver.close()"
   ]
  }
 ],
 "metadata": {
  "kernelspec": {
   "display_name": "Python 3",
   "language": "python",
   "name": "python3"
  },
  "language_info": {
   "codemirror_mode": {
    "name": "ipython",
    "version": 3
   },
   "file_extension": ".py",
   "mimetype": "text/x-python",
   "name": "python",
   "nbconvert_exporter": "python",
   "pygments_lexer": "ipython3",
   "version": "3.7.4"
  }
 },
 "nbformat": 4,
 "nbformat_minor": 2
}
