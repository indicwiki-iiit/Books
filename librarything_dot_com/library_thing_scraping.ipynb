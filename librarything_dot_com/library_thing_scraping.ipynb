{
 "cells": [
  {
   "cell_type": "code",
   "execution_count": 1,
   "id": "07dc2cdd",
   "metadata": {},
   "outputs": [],
   "source": [
    "import pandas as pd\n",
    "import ast\n",
    "import pickle\n",
    "import requests\n",
    "from selenium import webdriver\n",
    "import time\n",
    "from bs4 import BeautifulSoup"
   ]
  },
  {
   "cell_type": "code",
   "execution_count": 20,
   "id": "cd9f6086",
   "metadata": {},
   "outputs": [],
   "source": [
    "driver_path = \"/home/pybeast/chromedriver\"\n",
    "driver = webdriver.Chrome(executable_path=driver_path)"
   ]
  },
  {
   "cell_type": "code",
   "execution_count": 3,
   "id": "318125a7",
   "metadata": {},
   "outputs": [],
   "source": [
    "books = pickle.load(open(\"books_v6.pkl\", \"rb\"))"
   ]
  },
  {
   "cell_type": "code",
   "execution_count": 4,
   "id": "be35ffb0",
   "metadata": {},
   "outputs": [
    {
     "name": "stdout",
     "output_type": "stream",
     "text": [
      "6500\n"
     ]
    },
    {
     "data": {
      "text/plain": [
       "['9780002005883',\n",
       " '9780002261982',\n",
       " '9780006163831',\n",
       " '9780006178736',\n",
       " '9780006280897']"
      ]
     },
     "execution_count": 4,
     "metadata": {},
     "output_type": "execute_result"
    }
   ],
   "source": [
    "isbn_list = books['isbn_13'].tolist()\n",
    "print(len(isbn_list))\n",
    "isbn_list[:5]"
   ]
  },
  {
   "cell_type": "code",
   "execution_count": 5,
   "id": "595aa3db",
   "metadata": {},
   "outputs": [],
   "source": [
    "library_thing_url = \"https://www.librarything.com/search.php?search={}\""
   ]
  },
  {
   "cell_type": "code",
   "execution_count": 6,
   "id": "670ed17e",
   "metadata": {},
   "outputs": [],
   "source": [
    "d = dict()"
   ]
  },
  {
   "cell_type": "code",
   "execution_count": 23,
   "id": "d19cfcc6",
   "metadata": {},
   "outputs": [
    {
     "name": "stdout",
     "output_type": "stream",
     "text": [
      "At #1 Done table, Done summary, Done characters, Done awards\n",
      "At #2 Done table, Done summary, Done characters, Done awards\n",
      "At #3 Done table, Done summary, Done characters, Done awards\n"
     ]
    }
   ],
   "source": [
    "cnt = 0\n",
    "for isbn in isbn_list[:3]:\n",
    "    status = \"\"\n",
    "    cnt += 1\n",
    "    isbn = str(isbn)\n",
    "    try:\n",
    "        url = library_thing_url.format(isbn)\n",
    "        # print(url)\n",
    "        driver.get(url)\n",
    "        time.sleep(3)\n",
    "        a_tag = driver.find_element_by_class_name('msg').find_element_by_tag_name(\"a\")\n",
    "        link = a_tag.get_attribute(\"href\")\n",
    "        d[isbn] = dict()\n",
    "        d[isbn]['library_thing_url'] = link\n",
    "        a_tag.click()\n",
    "        time.sleep(3)\n",
    "        \n",
    "        # Single row table \n",
    "        try:\n",
    "            wsl_header = driver.find_element_by_class_name(\"wslheader\")\n",
    "            headers = wsl_header.find_elements_by_tag_name(\"td\")\n",
    "            \n",
    "            wsl_content = driver.find_element_by_class_name(\"wslcontent\")\n",
    "            contents = wsl_content.find_elements_by_tag_name('td')\n",
    "            \n",
    "            for i, j in zip(headers, contents):\n",
    "                d[isbn][i.text] = j.text\n",
    "            status += \"Done table, \"\n",
    "        except:\n",
    "            status += \"Failed table, \"\n",
    "        \n",
    "        # Summary\n",
    "        try:\n",
    "            wsl_summary = driver.find_element_by_class_name(\"wslsummary\").get_attribute(\"innerHTML\")\n",
    "            soup = BeautifulSoup(wsl_summary, \"html.parser\")\n",
    "            summary = soup.find(\"td\").text\n",
    "            d[isbn]['summary'] = summary\n",
    "            status += \"Done summary, \"\n",
    "        except:\n",
    "            d[isbn]['summary'] = \"\"\n",
    "            status += 'Failed summary, '\n",
    "            \n",
    "        # People/Characters\n",
    "        try:\n",
    "            d[isbn]['characters'] = list()\n",
    "            characters = driver.find_element_by_xpath(\"//td[@fieldname='characternames']\").get_attribute(\"innerHTML\")\n",
    "            soup = BeautifulSoup(characters, \"html.parser\")\n",
    "            for character in soup.find_all(\"div\", class_=\"divcharacternames\"):\n",
    "                d[isbn]['characters'].append(character.get_text())\n",
    "            status += \"Done characters, \"\n",
    "        except:\n",
    "            status += 'Failed characters, '\n",
    "        \n",
    "        # Awards\n",
    "        try:\n",
    "            d[isbn]['awards'] = list()\n",
    "            awards = driver.find_element_by_xpath(\"//td[@fieldname='awards']\").get_attribute(\"innerHTML\")\n",
    "            soup = BeautifulSoup(awards, \"html.parser\")\n",
    "            for award in soup.find_all(\"div\", class_=\"divawards\"):\n",
    "                d[isbn]['awards'].append(award.get_text())\n",
    "            status += \"Done awards\"\n",
    "        except:\n",
    "            status += \"Failed awards\"\n",
    "    except:\n",
    "        status += (isbn + \" not found\") \n",
    "    print(\"At #\" + str(cnt) + \" \" + status)"
   ]
  },
  {
   "cell_type": "code",
   "execution_count": 14,
   "id": "bf690636",
   "metadata": {
    "scrolled": true
   },
   "outputs": [
    {
     "data": {
      "text/plain": [
       "{'9780002261982': {'library_thing_url': 'https://www.librarything.com/work/191677',\n",
       "  'Members': '750',\n",
       "  'Reviews': '11',\n",
       "  'Popularity': '22,123',\n",
       "  'Average rating': '(3.36)',\n",
       "  'Mentions': '5',\n",
       "  'summary': \"A full-length novel by Charles Osborne adapted from Agatha Christie's stage play, in which a diplomat's wife finds a body that mustn't be discovered... Following BLACK COFFEE and THE UNEXPECTED GUEST comes the final Agatha Christie play novelisation, bringing her superb storytelling to a new legion of fans. Clarissa, the wife of a Foreign Office diplomat, is given to daydreaming. 'Supposing I were to come down one morning and find a dead body in the library, what should I do?' she muses. Clarissa has her chance to find out when she discovers a body in the drawing-room of her house in Kent. Desperate to dispose of the body before her husband comes home with an important foreign politician, Clarissa persuades her three house guests to become accessories and accomplices. It seems that the murdered man was not unknown to certain members of the house party (but which ones?), and the search begins for the murderer and the motive, while at the same time trying to persuade a police inspector that there has been no murder at all...… (more)\",\n",
       "  'characters': ['Henry Hailsham-Brown',\n",
       "   'Clarissa Hailsham-Brown',\n",
       "   'Sir Rowland Delahaye',\n",
       "   'Hugo Birch',\n",
       "   'Jeremy Warrender',\n",
       "   'Mildred Peake',\n",
       "   'Pippa Hailsham-Brown'],\n",
       "  'awards': ['']},\n",
       " '9780006163831': {'library_thing_url': 'https://www.librarything.com/work/65530',\n",
       "  'Members': '3,121',\n",
       "  'Reviews': '10',\n",
       "  'Popularity': '3,164',\n",
       "  'Average rating': '(3.78)',\n",
       "  'Mentions': '45',\n",
       "  'summary': \"Thomas Covenant and Linden Avery flee from the Land in search for the One Tree, the powerful life force whose branches alone can re-make the Staff of Law. Lord Foul's Ravers, however, are never far behind them. Other books featuring these characters include The Wounded Land.\",\n",
       "  'characters': ['Thomas Covenant', 'Linden Avery'],\n",
       "  'awards': ['Balrog Fantasy Award (Best Novel, 1983)',\n",
       "   'New York Times bestseller (Fiction, 1982)',\n",
       "   'ISFDB Top 100 Books - Critical List (83)']},\n",
       " '9780002005883': {'library_thing_url': 'https://www.librarything.com/work/16914',\n",
       "  'Members': '9,766',\n",
       "  'Reviews': '351',\n",
       "  'Popularity': '548',\n",
       "  'Average rating': '(3.89)',\n",
       "  'Conversations / Mentions': '1 / 996',\n",
       "  'summary': 'In 1956, as a minister approaches the end of his life, he writes a letter to his son chronicling three previous generations of his family, a story that stretches back to the Civil War and reveals uncomfortable family secrets.',\n",
       "  'characters': ['John Ames',\n",
       "   'Jack Boughton',\n",
       "   'Robert Boughton',\n",
       "   'Glory Boughton'],\n",
       "  'awards': ['Pulitzer Prize (2005.1|Fiction, 2005)',\n",
       "   'National Book Critics Circle Award (Fiction, 2004)',\n",
       "   'Ambassador Book Award (Fiction, 2005)',\n",
       "   'Guardian 1000 (Love)',\n",
       "   'Orange Prize Longlist (2006)',\n",
       "   'All Iowa Reads (2006)',\n",
       "   'PEN/Faulkner Award finalist (2005)',\n",
       "   \"Brooklyn Magazine's Literary United States (Iowa)\",\n",
       "   'Harvard Bookstore Top 100 (94)',\n",
       "   'Society of Midland Authors Award (Adult Fiction, 2005)',\n",
       "   'Los Angeles Times Book Prize finalist (Fiction, 2004)',\n",
       "   'The Great American Read (84)',\n",
       "   '1000 Books to Read Before You Die (2018)',\n",
       "   'Besides the Bible: 100 Books That Have, Should, or Will Create Christian Culture',\n",
       "   'Greatest Books algorithm (#394)']},\n",
       " '9780006178736': {'library_thing_url': 'https://www.librarything.com/work/10266',\n",
       "  'Members': '1,694',\n",
       "  'Reviews': '26',\n",
       "  'Popularity': '7,563',\n",
       "  'Average rating': '(3.63)',\n",
       "  'Conversations / Mentions': '1 / 11',\n",
       "  'summary': 'The story of a beautiful New York lawyer, who falls into a dangerous love triangle with two men--one a prominent politician, the other the head of the powerful Mofia family for whom she is counsel.',\n",
       "  'characters': ['Jennifer Parker',\n",
       "   'Adam Warner',\n",
       "   'Robert Di Silva',\n",
       "   'Michael Moretti'],\n",
       "  'awards': ['New York Times bestseller (Fiction, 1980)']}}"
      ]
     },
     "execution_count": 14,
     "metadata": {},
     "output_type": "execute_result"
    }
   ],
   "source": [
    "d"
   ]
  }
 ],
 "metadata": {
  "kernelspec": {
   "display_name": "Python 3",
   "language": "python",
   "name": "python3"
  },
  "language_info": {
   "codemirror_mode": {
    "name": "ipython",
    "version": 3
   },
   "file_extension": ".py",
   "mimetype": "text/x-python",
   "name": "python",
   "nbconvert_exporter": "python",
   "pygments_lexer": "ipython3",
   "version": "3.7.8"
  }
 },
 "nbformat": 4,
 "nbformat_minor": 5
}
