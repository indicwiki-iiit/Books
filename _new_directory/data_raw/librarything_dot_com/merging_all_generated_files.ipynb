{
 "cells": [
  {
   "cell_type": "code",
   "execution_count": 1,
   "id": "ec26faa0",
   "metadata": {},
   "outputs": [],
   "source": [
    "import pandas as pd\n",
    "import pickle\n",
    "import ast"
   ]
  },
  {
   "cell_type": "code",
   "execution_count": 7,
   "id": "3d28cb6c",
   "metadata": {},
   "outputs": [],
   "source": [
    "p = pickle.load(open(\"books_v6.pkl\", \"rb\"))\n",
    "isbn_list = p['isbn_13'].tolist()"
   ]
  },
  {
   "cell_type": "code",
   "execution_count": 8,
   "id": "74cb5f62",
   "metadata": {},
   "outputs": [],
   "source": [
    "merged_dict = dict()"
   ]
  },
  {
   "cell_type": "code",
   "execution_count": 45,
   "id": "45a86821",
   "metadata": {
    "scrolled": false
   },
   "outputs": [],
   "source": [
    "contents = open(\"generated_files/0001-1000.txt\", \"r\").read()\n",
    "d = ast.literal_eval(contents)\n",
    "for i in d:\n",
    "    merged_dict[i] = d[i]"
   ]
  },
  {
   "cell_type": "code",
   "execution_count": 50,
   "id": "ff7fba7e",
   "metadata": {
    "scrolled": true
   },
   "outputs": [],
   "source": [
    "contents = open(\"generated_files/1000-1500.txt\", \"r\", encoding=\"utf-8-sig\").read()\n",
    "d = ast.literal_eval(contents)\n",
    "for i in d:\n",
    "    merged_dict[i] = d[i]"
   ]
  },
  {
   "cell_type": "code",
   "execution_count": 51,
   "id": "e13b2c61",
   "metadata": {},
   "outputs": [],
   "source": [
    "contents = open(\"generated_files/1500-3000.txt\", \"r\", encoding=\"utf-8-sig\").read()\n",
    "d = ast.literal_eval(contents)\n",
    "for i in d:\n",
    "    merged_dict[i] = d[i]"
   ]
  },
  {
   "cell_type": "code",
   "execution_count": 52,
   "id": "2313d95a",
   "metadata": {},
   "outputs": [],
   "source": [
    "contents = open(\"generated_files/3001-5000.txt\", \"r\").read()\n",
    "d = ast.literal_eval(contents)\n",
    "for i in d:\n",
    "    merged_dict[i] = d[i]"
   ]
  },
  {
   "cell_type": "code",
   "execution_count": 53,
   "id": "633c1f05",
   "metadata": {},
   "outputs": [],
   "source": [
    "contents = open(\"generated_files/3163-3367.txt\", \"r\").read()\n",
    "d = ast.literal_eval(contents)\n",
    "for i in d:\n",
    "    merged_dict[i] = d[i]"
   ]
  },
  {
   "cell_type": "code",
   "execution_count": 54,
   "id": "7552fd25",
   "metadata": {},
   "outputs": [],
   "source": [
    "contents = open(\"generated_files/5001-6500.txt\", \"r\").read()\n",
    "d = ast.literal_eval(contents)\n",
    "for i in d:\n",
    "    merged_dict[i] = d[i]"
   ]
  },
  {
   "cell_type": "code",
   "execution_count": 56,
   "id": "04c5cb42",
   "metadata": {},
   "outputs": [
    {
     "name": "stdout",
     "output_type": "stream",
     "text": [
      "6424\n"
     ]
    }
   ],
   "source": [
    "print(len(merged_dict))"
   ]
  },
  {
   "cell_type": "code",
   "execution_count": 61,
   "id": "be5d9aff",
   "metadata": {},
   "outputs": [
    {
     "name": "stdout",
     "output_type": "stream",
     "text": [
      "['9780060245603', '9780060527990', '9780060936662', '9780060938109', '9780062700254', '9780064406031', '9780064408585', '9780064434980', '9780064435260', '9780071608916', '9780140153224', '9780198321477', '9780198711551', '9780198752752', '9780199120093', '9780199203611', '9780312352189', '9780312935757', '9780312937720', '9780312941468', '9780312948962', '9780312965785', '9780345384225', '9780345461360', '9780345461612', '9780345478252', '9780349113463', '9780374253844', '9780374506803', '9780375700125', '9780375700262', '9780375703874', '9780375704253', '9780375752674', '9780375756603', '9780385333818', '9780393703351', '9780465069903', '9780465081424', '9780505525154', '9780515139709', '9780517588376', '9780521532488', '9780521532525', '9780523401218', '9780571224388', '9780671708634', '9780671722074', '9781439117088', '9780679724773', '9780679727293', '9780744005615', '9780756400439', '9780756401108', '9780756401535', '9780756402211', '9780756403188', '9780756403256', '9781101487556', '9781400076192', '9781400078677', '9781400078745', '9781400079278', '9781400079377', '9781439116982', '9781439117019', '9781480105690', '9781551052700', '9781741045918', '9781741142396', '9781790877799', '9781840220551', '9781840224535', '9781930901353', '9781932206081', '9781932206104']\n",
      "76\n"
     ]
    }
   ],
   "source": [
    "missing_list = list()\n",
    "for isbn in isbn_list:\n",
    "    if isbn not in merged_dict:\n",
    "        missing_list.append(isbn)\n",
    "print(missing_list)\n",
    "print(len(missing_list))"
   ]
  },
  {
   "cell_type": "code",
   "execution_count": 62,
   "id": "a2a511d2",
   "metadata": {},
   "outputs": [],
   "source": [
    "contents = open(\"generated_files/missing-list.txt\", \"r\").read()\n",
    "d = ast.literal_eval(contents)\n",
    "for i in d:\n",
    "    merged_dict[i] = d[i]"
   ]
  },
  {
   "cell_type": "code",
   "execution_count": 71,
   "id": "a4fde054",
   "metadata": {},
   "outputs": [
    {
     "name": "stdout",
     "output_type": "stream",
     "text": [
      "6487\n"
     ]
    }
   ],
   "source": [
    "print(len(merged_dict))"
   ]
  },
  {
   "cell_type": "code",
   "execution_count": 72,
   "id": "183d2f81",
   "metadata": {},
   "outputs": [],
   "source": [
    "f = open(\"generated_files/merged_dict.txt\", \"w\")\n",
    "f.write(str(merged_dict))\n",
    "f.close()"
   ]
  }
 ],
 "metadata": {
  "kernelspec": {
   "display_name": "Python 3",
   "language": "python",
   "name": "python3"
  },
  "language_info": {
   "codemirror_mode": {
    "name": "ipython",
    "version": 3
   },
   "file_extension": ".py",
   "mimetype": "text/x-python",
   "name": "python",
   "nbconvert_exporter": "python",
   "pygments_lexer": "ipython3",
   "version": "3.7.8"
  }
 },
 "nbformat": 4,
 "nbformat_minor": 5
}
