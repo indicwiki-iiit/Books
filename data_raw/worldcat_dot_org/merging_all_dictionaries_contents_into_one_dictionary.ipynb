{
 "cells": [
  {
   "cell_type": "markdown",
   "id": "3ae3574c",
   "metadata": {},
   "source": [
    "## Code for merging all dictionary contents"
   ]
  },
  {
   "cell_type": "code",
   "execution_count": 2,
   "id": "df4197f3",
   "metadata": {},
   "outputs": [],
   "source": [
    "import pandas as pd\n",
    "import pickle\n",
    "import ast"
   ]
  },
  {
   "cell_type": "code",
   "execution_count": 44,
   "id": "9c40efed",
   "metadata": {},
   "outputs": [],
   "source": [
    "p = pickle.load(open(\"../librarything_dot_com/books_v7.pkl\", \"rb\"))\n",
    "isbn_list = p['isbn_13'].tolist()"
   ]
  },
  {
   "cell_type": "code",
   "execution_count": 10,
   "id": "871eca94",
   "metadata": {},
   "outputs": [],
   "source": [
    "merged_dict = dict()"
   ]
  },
  {
   "cell_type": "code",
   "execution_count": 11,
   "id": "566adea7",
   "metadata": {},
   "outputs": [],
   "source": [
    "contents = open(\"generated_files/0001-0600.txt\", \"r\").read()\n",
    "d = ast.literal_eval(contents)\n",
    "for i in d:\n",
    "    merged_dict[i] = d[i]"
   ]
  },
  {
   "cell_type": "code",
   "execution_count": 15,
   "id": "70fba2e3",
   "metadata": {},
   "outputs": [],
   "source": [
    "contents = open(\"generated_files/0601-0800.txt\", \"r\").read()\n",
    "d = ast.literal_eval(contents)\n",
    "for i in d:\n",
    "    merged_dict[i] = d[i]"
   ]
  },
  {
   "cell_type": "code",
   "execution_count": 20,
   "id": "e2648e06",
   "metadata": {},
   "outputs": [],
   "source": [
    "contents = open(\"generated_files/0801-1800.txt\", \"r\").read()\n",
    "d = ast.literal_eval(contents)\n",
    "for i in d:\n",
    "    merged_dict[i] = d[i]"
   ]
  },
  {
   "cell_type": "code",
   "execution_count": 23,
   "id": "7840eefd",
   "metadata": {},
   "outputs": [],
   "source": [
    "contents = open(\"generated_files/1801-2000.txt\", \"r\").read()\n",
    "d = ast.literal_eval(contents)\n",
    "for i in d:\n",
    "    merged_dict[i] = d[i]"
   ]
  },
  {
   "cell_type": "code",
   "execution_count": 27,
   "id": "ddb9ea08",
   "metadata": {},
   "outputs": [],
   "source": [
    "contents = open(\"generated_files/2001-2681.txt\", \"r\", encoding=\"utf-8-sig\").read()\n",
    "d = ast.literal_eval(contents)\n",
    "for i in d:\n",
    "    merged_dict[i] = d[i]"
   ]
  },
  {
   "cell_type": "code",
   "execution_count": 31,
   "id": "7249bd78",
   "metadata": {},
   "outputs": [],
   "source": [
    "contents = open(\"generated_files/2682-3681.txt\", \"r\", encoding=\"utf-8-sig\").read()\n",
    "d = ast.literal_eval(contents)\n",
    "for i in d:\n",
    "    merged_dict[i] = d[i]"
   ]
  },
  {
   "cell_type": "code",
   "execution_count": 32,
   "id": "8a34c046",
   "metadata": {},
   "outputs": [],
   "source": [
    "contents = open(\"generated_files/3682-4000.txt\", \"r\", encoding=\"utf-8-sig\").read()\n",
    "d = ast.literal_eval(contents)\n",
    "for i in d:\n",
    "    merged_dict[i] = d[i]"
   ]
  },
  {
   "cell_type": "code",
   "execution_count": 33,
   "id": "100b44b3",
   "metadata": {},
   "outputs": [],
   "source": [
    "contents = open(\"generated_files/4001-5000.txt\", \"r\").read()\n",
    "d = ast.literal_eval(contents)\n",
    "for i in d:\n",
    "    merged_dict[i] = d[i]"
   ]
  },
  {
   "cell_type": "code",
   "execution_count": 34,
   "id": "23a4c1f0",
   "metadata": {},
   "outputs": [],
   "source": [
    "contents = open(\"generated_files/5001-5100.txt\", \"r\").read()\n",
    "d = ast.literal_eval(contents)\n",
    "for i in d:\n",
    "    merged_dict[i] = d[i]"
   ]
  },
  {
   "cell_type": "code",
   "execution_count": 35,
   "id": "6cb18dd2",
   "metadata": {},
   "outputs": [],
   "source": [
    "contents = open(\"generated_files/5101-5400.txt\", \"r\").read()\n",
    "d = ast.literal_eval(contents)\n",
    "for i in d:\n",
    "    merged_dict[i] = d[i]"
   ]
  },
  {
   "cell_type": "code",
   "execution_count": 36,
   "id": "0edd2a60",
   "metadata": {},
   "outputs": [],
   "source": [
    "contents = open(\"generated_files/5401-5500.txt\", \"r\").read()\n",
    "d = ast.literal_eval(contents)\n",
    "for i in d:\n",
    "    merged_dict[i] = d[i]"
   ]
  },
  {
   "cell_type": "code",
   "execution_count": 38,
   "id": "90358d81",
   "metadata": {},
   "outputs": [],
   "source": [
    "contents = open(\"generated_files/5500-5769.txt\", \"r\", encoding=\"utf-8-sig\").read()\n",
    "d = ast.literal_eval(contents)\n",
    "for i in d:\n",
    "    merged_dict[i] = d[i]"
   ]
  },
  {
   "cell_type": "code",
   "execution_count": 39,
   "id": "f52e0268",
   "metadata": {},
   "outputs": [],
   "source": [
    "contents = open(\"generated_files/5769-6500.txt\", \"r\", encoding=\"utf-8-sig\").read()\n",
    "d = ast.literal_eval(contents)\n",
    "for i in d:\n",
    "    merged_dict[i] = d[i]"
   ]
  },
  {
   "cell_type": "code",
   "execution_count": 61,
   "id": "e9f9bfa0",
   "metadata": {},
   "outputs": [
    {
     "name": "stdout",
     "output_type": "stream",
     "text": [
      "39\n"
     ]
    }
   ],
   "source": [
    "# We don't have information of (39 books) on worldcat's website\n",
    "cnt = 0\n",
    "for i in isbn_list:\n",
    "    if i not in merged_dict:\n",
    "        cnt += 1\n",
    "print(cnt)"
   ]
  },
  {
   "cell_type": "code",
   "execution_count": 62,
   "id": "18f5d856",
   "metadata": {},
   "outputs": [
    {
     "name": "stdout",
     "output_type": "stream",
     "text": [
      "<class 'pandas.core.frame.DataFrame'>\n",
      "RangeIndex: 6500 entries, 0 to 6499\n",
      "Data columns (total 42 columns):\n",
      " #   Column                              Non-Null Count  Dtype \n",
      "---  ------                              --------------  ----- \n",
      " 0   google_books_id                     6500 non-null   object\n",
      " 1   isbn_13                             6500 non-null   object\n",
      " 2   isbn_10                             6159 non-null   object\n",
      " 3   book_title                          6500 non-null   object\n",
      " 4   subtitle                            2288 non-null   object\n",
      " 5   authors                             6433 non-null   object\n",
      " 6   publisher                           6487 non-null   object\n",
      " 7   published_date                      6491 non-null   object\n",
      " 8   page_count                          6424 non-null   object\n",
      " 9   categories                          6403 non-null   object\n",
      " 10  small_thumbnail_link                6225 non-null   object\n",
      " 11  large_thumbnail_link                6223 non-null   object\n",
      " 12  average_rating                      4846 non-null   object\n",
      " 13  ratings_count                       4843 non-null   object\n",
      " 14  maturity_rating                     6489 non-null   object\n",
      " 15  description                         6270 non-null   object\n",
      " 16  language                            6493 non-null   object\n",
      " 17  preview_link                        6498 non-null   object\n",
      " 18  info_link                           6499 non-null   object\n",
      " 19  canonical_volume_link               6499 non-null   object\n",
      " 20  self_link                           6499 non-null   object\n",
      " 21  etag                                6500 non-null   object\n",
      " 22  ebook_availability_on_google_books  6500 non-null   object\n",
      " 23  epub_availability_on_google_books   6500 non-null   object\n",
      " 24  pdf_availability_on_google_books    6500 non-null   object\n",
      " 25  goodreads_rating                    6500 non-null   object\n",
      " 26  goodreads_ratings_count             6500 non-null   object\n",
      " 27  goodreads_awards                    6500 non-null   object\n",
      " 28  Unnamed: 28                         6 non-null      object\n",
      " 29  Unnamed: 29                         4 non-null      object\n",
      " 30  Unnamed: 30                         2 non-null      object\n",
      " 31  goodreads_link                      6500 non-null   object\n",
      " 32  amazon_link                         6500 non-null   object\n",
      " 33  librarything_url                    6500 non-null   object\n",
      " 34  librarything_members                6500 non-null   object\n",
      " 35  librarything_avg_rating             6500 non-null   object\n",
      " 36  librarything_reviews                6500 non-null   object\n",
      " 37  librarything_popularity             6500 non-null   object\n",
      " 38  librarything_conversations          6500 non-null   object\n",
      " 39  librarything_mentions               6500 non-null   object\n",
      " 40  librarything_characters             6500 non-null   object\n",
      " 41  librarything_book_summary           6500 non-null   object\n",
      "dtypes: object(42)\n",
      "memory usage: 2.1+ MB\n"
     ]
    }
   ],
   "source": [
    "p.info()"
   ]
  },
  {
   "cell_type": "code",
   "execution_count": 64,
   "id": "9a362db9",
   "metadata": {},
   "outputs": [],
   "source": [
    "p['worldcat_url'] = \"\"\n",
    "p['worldcat_oclc_number'] = \"\"\n",
    "p['worldcat_author_more_works'] = \"\""
   ]
  },
  {
   "cell_type": "code",
   "execution_count": 65,
   "id": "c25dea52",
   "metadata": {},
   "outputs": [
    {
     "name": "stdout",
     "output_type": "stream",
     "text": [
      "<class 'pandas.core.frame.DataFrame'>\n",
      "RangeIndex: 6500 entries, 0 to 6499\n",
      "Data columns (total 45 columns):\n",
      " #   Column                              Non-Null Count  Dtype \n",
      "---  ------                              --------------  ----- \n",
      " 0   google_books_id                     6500 non-null   object\n",
      " 1   isbn_13                             6500 non-null   object\n",
      " 2   isbn_10                             6159 non-null   object\n",
      " 3   book_title                          6500 non-null   object\n",
      " 4   subtitle                            2288 non-null   object\n",
      " 5   authors                             6433 non-null   object\n",
      " 6   publisher                           6487 non-null   object\n",
      " 7   published_date                      6491 non-null   object\n",
      " 8   page_count                          6424 non-null   object\n",
      " 9   categories                          6403 non-null   object\n",
      " 10  small_thumbnail_link                6225 non-null   object\n",
      " 11  large_thumbnail_link                6223 non-null   object\n",
      " 12  average_rating                      4846 non-null   object\n",
      " 13  ratings_count                       4843 non-null   object\n",
      " 14  maturity_rating                     6489 non-null   object\n",
      " 15  description                         6270 non-null   object\n",
      " 16  language                            6493 non-null   object\n",
      " 17  preview_link                        6498 non-null   object\n",
      " 18  info_link                           6499 non-null   object\n",
      " 19  canonical_volume_link               6499 non-null   object\n",
      " 20  self_link                           6499 non-null   object\n",
      " 21  etag                                6500 non-null   object\n",
      " 22  ebook_availability_on_google_books  6500 non-null   object\n",
      " 23  epub_availability_on_google_books   6500 non-null   object\n",
      " 24  pdf_availability_on_google_books    6500 non-null   object\n",
      " 25  goodreads_rating                    6500 non-null   object\n",
      " 26  goodreads_ratings_count             6500 non-null   object\n",
      " 27  goodreads_awards                    6500 non-null   object\n",
      " 28  Unnamed: 28                         6 non-null      object\n",
      " 29  Unnamed: 29                         4 non-null      object\n",
      " 30  Unnamed: 30                         2 non-null      object\n",
      " 31  goodreads_link                      6500 non-null   object\n",
      " 32  amazon_link                         6500 non-null   object\n",
      " 33  librarything_url                    6500 non-null   object\n",
      " 34  librarything_members                6500 non-null   object\n",
      " 35  librarything_avg_rating             6500 non-null   object\n",
      " 36  librarything_reviews                6500 non-null   object\n",
      " 37  librarything_popularity             6500 non-null   object\n",
      " 38  librarything_conversations          6500 non-null   object\n",
      " 39  librarything_mentions               6500 non-null   object\n",
      " 40  librarything_characters             6500 non-null   object\n",
      " 41  librarything_book_summary           6500 non-null   object\n",
      " 42  worldcat_url                        6500 non-null   object\n",
      " 43  worldcat_oclc_number                6500 non-null   object\n",
      " 44  worldcat_author_more_works          6500 non-null   object\n",
      "dtypes: object(45)\n",
      "memory usage: 2.2+ MB\n"
     ]
    }
   ],
   "source": [
    "p.info()"
   ]
  },
  {
   "cell_type": "code",
   "execution_count": 84,
   "id": "f982257e",
   "metadata": {},
   "outputs": [
    {
     "name": "stdout",
     "output_type": "stream",
     "text": [
      "39\n"
     ]
    }
   ],
   "source": [
    "# Adding worldcat.com's book_url to .pkl\n",
    "for i in range(len(p)):\n",
    "    isbn = p.loc[i]['isbn_13']\n",
    "    if isbn in merged_dict:\n",
    "        p.loc[i]['worldcat_url'] = merged_dict[isbn]['book_url']\n",
    "\n",
    "# 39 missing values(There's no way to collect them as those books data isn't actually there on the site)\n",
    "cnt = 0\n",
    "for i in range(len(p)):\n",
    "    if p.loc[i]['worldcat_url'] == \"\":\n",
    "        cnt += 1\n",
    "print(cnt)"
   ]
  },
  {
   "cell_type": "code",
   "execution_count": 85,
   "id": "ee347456",
   "metadata": {},
   "outputs": [
    {
     "name": "stdout",
     "output_type": "stream",
     "text": [
      "41\n"
     ]
    }
   ],
   "source": [
    "# Adding oclc_number of the book fetched from worldcat.com's website to .pkl\n",
    "for i in range(len(p)):\n",
    "    isbn = p.loc[i]['isbn_13']\n",
    "    if isbn in merged_dict and 'oclc_number' in merged_dict[isbn]:\n",
    "        p.loc[i]['worldcat_oclc_number'] = merged_dict[isbn]['oclc_number']\n",
    "\n",
    "# 41 missing values\n",
    "cnt = 0\n",
    "for i in range(len(p)):\n",
    "    if p.loc[i]['worldcat_oclc_number'] == \"\":\n",
    "        cnt += 1\n",
    "print(cnt)"
   ]
  },
  {
   "cell_type": "code",
   "execution_count": 86,
   "id": "ab57e1c8",
   "metadata": {},
   "outputs": [
    {
     "name": "stdout",
     "output_type": "stream",
     "text": [
      "440\n"
     ]
    }
   ],
   "source": [
    "# Adding more_works by author of the book fetched from worldcat.com's website to .pkl\n",
    "for i in range(len(p)):\n",
    "    isbn = p.loc[i]['isbn_13']\n",
    "    if isbn in merged_dict and merged_dict[isbn]['more_works'] != []:\n",
    "        p.loc[i]['worldcat_author_more_works'] = merged_dict[isbn]['more_works']\n",
    "    else:\n",
    "        p.loc[i]['worldcat_author_more_works'] = \"\"\n",
    "\n",
    "# 440 missing values\n",
    "cnt = 0\n",
    "for i in range(len(p)):\n",
    "    if p.loc[i]['worldcat_author_more_works'] == \"\":\n",
    "        cnt += 1\n",
    "print(cnt)"
   ]
  },
  {
   "cell_type": "code",
   "execution_count": 87,
   "id": "12601139",
   "metadata": {
    "scrolled": true
   },
   "outputs": [],
   "source": [
    "# Saving merged_dict into file\n",
    "f = open(\"generated_files/merged_dict.txt\", \"w\")\n",
    "f.write(str(merged_dict))\n",
    "f.close()"
   ]
  },
  {
   "cell_type": "code",
   "execution_count": 88,
   "id": "49e2b32a",
   "metadata": {},
   "outputs": [],
   "source": [
    "# Generating .pkl file with updated info\n",
    "pickle.dump(p, open(\"books_v8.pkl\", \"wb\"))"
   ]
  }
 ],
 "metadata": {
  "kernelspec": {
   "display_name": "Python 3",
   "language": "python",
   "name": "python3"
  },
  "language_info": {
   "codemirror_mode": {
    "name": "ipython",
    "version": 3
   },
   "file_extension": ".py",
   "mimetype": "text/x-python",
   "name": "python",
   "nbconvert_exporter": "python",
   "pygments_lexer": "ipython3",
   "version": "3.7.8"
  }
 },
 "nbformat": 4,
 "nbformat_minor": 5
}
