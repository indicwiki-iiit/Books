{
 "cells": [
  {
   "cell_type": "code",
   "execution_count": 41,
   "id": "4737e604",
   "metadata": {},
   "outputs": [],
   "source": [
    "import pandas as pd\n",
    "import pickle\n",
    "import ast\n",
    "import numpy as np\n",
    "from selenium import webdriver\n",
    "import time\n",
    "from bs4 import BeautifulSoup\n",
    "from selenium.webdriver.common.by import By\n",
    "from selenium.webdriver.support.ui import WebDriverWait\n",
    "from selenium.webdriver.support import expected_conditions as EC"
   ]
  },
  {
   "cell_type": "code",
   "execution_count": 18,
   "id": "fa8c587d",
   "metadata": {},
   "outputs": [],
   "source": [
    "p = pickle.load(open(\"books_v6.pkl\", \"rb\"))"
   ]
  },
  {
   "cell_type": "code",
   "execution_count": 19,
   "id": "f2afd50f",
   "metadata": {},
   "outputs": [
    {
     "name": "stdout",
     "output_type": "stream",
     "text": [
      "<class 'pandas.core.frame.DataFrame'>\n",
      "RangeIndex: 6500 entries, 0 to 6499\n",
      "Data columns (total 33 columns):\n",
      " #   Column                              Non-Null Count  Dtype \n",
      "---  ------                              --------------  ----- \n",
      " 0   google_books_id                     6500 non-null   object\n",
      " 1   isbn_13                             6500 non-null   object\n",
      " 2   isbn_10                             6159 non-null   object\n",
      " 3   book_title                          6500 non-null   object\n",
      " 4   subtitle                            2288 non-null   object\n",
      " 5   authors                             6433 non-null   object\n",
      " 6   publisher                           6487 non-null   object\n",
      " 7   published_date                      6491 non-null   object\n",
      " 8   page_count                          6424 non-null   object\n",
      " 9   categories                          6403 non-null   object\n",
      " 10  small_thumbnail_link                6225 non-null   object\n",
      " 11  large_thumbnail_link                6223 non-null   object\n",
      " 12  average_rating                      4846 non-null   object\n",
      " 13  ratings_count                       4843 non-null   object\n",
      " 14  maturity_rating                     6489 non-null   object\n",
      " 15  description                         6270 non-null   object\n",
      " 16  language                            6493 non-null   object\n",
      " 17  preview_link                        6498 non-null   object\n",
      " 18  info_link                           6499 non-null   object\n",
      " 19  canonical_volume_link               6499 non-null   object\n",
      " 20  self_link                           6499 non-null   object\n",
      " 21  etag                                6500 non-null   object\n",
      " 22  ebook_availability_on_google_books  6500 non-null   object\n",
      " 23  epub_availability_on_google_books   6500 non-null   object\n",
      " 24  pdf_availability_on_google_books    6500 non-null   object\n",
      " 25  goodreads_rating                    6500 non-null   object\n",
      " 26  goodreads_ratings_count             6500 non-null   object\n",
      " 27  goodreads_awards                    6500 non-null   object\n",
      " 28  Unnamed: 28                         6 non-null      object\n",
      " 29  Unnamed: 29                         4 non-null      object\n",
      " 30  Unnamed: 30                         2 non-null      object\n",
      " 31  goodreads_link                      6500 non-null   object\n",
      " 32  amazon_link                         6500 non-null   object\n",
      "dtypes: object(33)\n",
      "memory usage: 1.6+ MB\n",
      "None\n"
     ]
    }
   ],
   "source": [
    "print(p.info())"
   ]
  },
  {
   "cell_type": "code",
   "execution_count": 20,
   "id": "032638a7",
   "metadata": {},
   "outputs": [],
   "source": [
    "p['librarything_url'] = ''\n",
    "p['librarything_members'] = ''\n",
    "p['librarything_avg_rating'] = ''\n",
    "p['librarything_reviews'] = ''\n",
    "p['librarything_popularity'] = ''\n",
    "p['librarything_conversations'] = ''\n",
    "p['librarything_mentions'] = ''\n",
    "p['librarything_characters'] = ''\n",
    "p['librarything_book_summary'] = ''"
   ]
  },
  {
   "cell_type": "code",
   "execution_count": 4,
   "id": "bc8e0856",
   "metadata": {},
   "outputs": [],
   "source": [
    "f = open(\"generated_files/merged_dict.txt\", \"r\")\n",
    "contents = f.read()\n",
    "f.close()\n",
    "merged_dict = ast.literal_eval(contents)"
   ]
  },
  {
   "cell_type": "code",
   "execution_count": 25,
   "id": "6fb94447",
   "metadata": {},
   "outputs": [
    {
     "name": "stdout",
     "output_type": "stream",
     "text": [
      "<class 'pandas.core.frame.DataFrame'>\n",
      "RangeIndex: 6500 entries, 0 to 6499\n",
      "Data columns (total 42 columns):\n",
      " #   Column                              Non-Null Count  Dtype \n",
      "---  ------                              --------------  ----- \n",
      " 0   google_books_id                     6500 non-null   object\n",
      " 1   isbn_13                             6500 non-null   object\n",
      " 2   isbn_10                             6159 non-null   object\n",
      " 3   book_title                          6500 non-null   object\n",
      " 4   subtitle                            2288 non-null   object\n",
      " 5   authors                             6433 non-null   object\n",
      " 6   publisher                           6487 non-null   object\n",
      " 7   published_date                      6491 non-null   object\n",
      " 8   page_count                          6424 non-null   object\n",
      " 9   categories                          6403 non-null   object\n",
      " 10  small_thumbnail_link                6225 non-null   object\n",
      " 11  large_thumbnail_link                6223 non-null   object\n",
      " 12  average_rating                      4846 non-null   object\n",
      " 13  ratings_count                       4843 non-null   object\n",
      " 14  maturity_rating                     6489 non-null   object\n",
      " 15  description                         6270 non-null   object\n",
      " 16  language                            6493 non-null   object\n",
      " 17  preview_link                        6498 non-null   object\n",
      " 18  info_link                           6499 non-null   object\n",
      " 19  canonical_volume_link               6499 non-null   object\n",
      " 20  self_link                           6499 non-null   object\n",
      " 21  etag                                6500 non-null   object\n",
      " 22  ebook_availability_on_google_books  6500 non-null   object\n",
      " 23  epub_availability_on_google_books   6500 non-null   object\n",
      " 24  pdf_availability_on_google_books    6500 non-null   object\n",
      " 25  goodreads_rating                    6500 non-null   object\n",
      " 26  goodreads_ratings_count             6500 non-null   object\n",
      " 27  goodreads_awards                    6500 non-null   object\n",
      " 28  Unnamed: 28                         6 non-null      object\n",
      " 29  Unnamed: 29                         4 non-null      object\n",
      " 30  Unnamed: 30                         2 non-null      object\n",
      " 31  goodreads_link                      6500 non-null   object\n",
      " 32  amazon_link                         6500 non-null   object\n",
      " 33  librarything_url                    6500 non-null   object\n",
      " 34  librarything_members                6500 non-null   object\n",
      " 35  librarything_avg_rating             6500 non-null   object\n",
      " 36  librarything_reviews                6500 non-null   object\n",
      " 37  librarything_popularity             6500 non-null   object\n",
      " 38  librarything_conversations          6500 non-null   object\n",
      " 39  librarything_mentions               6500 non-null   object\n",
      " 40  librarything_characters             6500 non-null   object\n",
      " 41  librarything_book_summary           6500 non-null   object\n",
      "dtypes: object(42)\n",
      "memory usage: 2.1+ MB\n"
     ]
    }
   ],
   "source": [
    "p.info()"
   ]
  },
  {
   "cell_type": "code",
   "execution_count": 34,
   "id": "3ef6c143",
   "metadata": {},
   "outputs": [
    {
     "name": "stdout",
     "output_type": "stream",
     "text": [
      "13\n"
     ]
    }
   ],
   "source": [
    "# Adding librarything_url \n",
    "for i in range(len(p)):\n",
    "    isbn = p.loc[i]['isbn_13']\n",
    "    if isbn in merged_dict:\n",
    "        librarything_url = merged_dict[isbn]['library_thing_url']\n",
    "        p.loc[i]['librarything_url'] = librarything_url\n",
    "\n",
    "# Checking missing values(13 missing values. And there is no way collecting them, as they aren't there on the webiste itself)\n",
    "cnt = 0\n",
    "for i in range(len(p)):\n",
    "    isbn = p.loc[i]['isbn_13']\n",
    "    if  p.loc[i]['librarything_url'] == \"\":\n",
    "        cnt += 1\n",
    "print(cnt)"
   ]
  },
  {
   "cell_type": "code",
   "execution_count": 42,
   "id": "ceda6450",
   "metadata": {},
   "outputs": [],
   "source": [
    "driver_path = \"/home/pybeast/chromedriver\"\n",
    "driver = webdriver.Chrome(executable_path=driver_path)"
   ]
  },
  {
   "cell_type": "code",
   "execution_count": 45,
   "id": "e6f04491",
   "metadata": {},
   "outputs": [
    {
     "name": "stdout",
     "output_type": "stream",
     "text": [
      "13\n"
     ]
    }
   ],
   "source": [
    "# Adding librarything_members \n",
    "for i in range(len(p)):\n",
    "    isbn = p.loc[i]['isbn_13']\n",
    "    if isbn in merged_dict:\n",
    "        if 'Members' in merged_dict[isbn]:\n",
    "            librarything_members = merged_dict[isbn]['Members']\n",
    "            p.loc[i]['librarything_members'] = librarything_members\n",
    "        else:\n",
    "            try:\n",
    "                driver.get(merged_dict[isbn]['library_thing_url'])\n",
    "                wsl_header = driver.find_element_by_class_name(\"wslheader\")\n",
    "                headers = wsl_header.find_elements_by_tag_name(\"td\")\n",
    "\n",
    "                wsl_content = driver.find_element_by_class_name(\"wslcontent\")\n",
    "                contents = wsl_content.find_elements_by_tag_name('td')\n",
    "\n",
    "                for i, j in zip(headers, contents):\n",
    "                    merged_dict[isbn][i.text] = j.text\n",
    "            except:\n",
    "                print(\"FAILED\")\n",
    "\n",
    "if isbn in merged_dict:\n",
    "    if 'Members' in merged_dict[isbn]:\n",
    "        librarything_members = merged_dict[isbn]['Members']\n",
    "        p.loc[i]['librarything_members'] = librarything_members\n",
    "\n",
    "# Checking missing values(13 missing values. And there is no way collecting them, as they aren't there on the webiste itself)\n",
    "cnt = 0\n",
    "for i in range(len(p)):\n",
    "    isbn = p.loc[i]['isbn_13']\n",
    "    if  p.loc[i]['librarything_members'] == \"\":\n",
    "        cnt += 1\n",
    "print(cnt)"
   ]
  },
  {
   "cell_type": "code",
   "execution_count": 46,
   "id": "e2ecbc94",
   "metadata": {},
   "outputs": [
    {
     "name": "stdout",
     "output_type": "stream",
     "text": [
      "13\n"
     ]
    }
   ],
   "source": [
    "# Adding librarything_avg_rating\n",
    "for i in range(len(p)):\n",
    "    isbn = p.loc[i]['isbn_13']\n",
    "    if isbn in merged_dict:\n",
    "        if 'Average rating' in merged_dict[isbn]:\n",
    "            librarything_avg_rating = merged_dict[isbn]['Average rating']\n",
    "            p.loc[i]['librarything_avg_rating'] = librarything_avg_rating\n",
    "\n",
    "# Checking missing values(13 missing values. And there is no way collecting them, as they aren't there on the webiste itself)\n",
    "cnt = 0\n",
    "for i in range(len(p)):\n",
    "    isbn = p.loc[i]['isbn_13']\n",
    "    if  p.loc[i]['librarything_avg_rating'] == \"\":\n",
    "        cnt += 1\n",
    "print(cnt)"
   ]
  },
  {
   "cell_type": "code",
   "execution_count": 48,
   "id": "8d8fe2ce",
   "metadata": {},
   "outputs": [
    {
     "name": "stdout",
     "output_type": "stream",
     "text": [
      "13\n"
     ]
    }
   ],
   "source": [
    "# Adding librarything_reviews\n",
    "for i in range(len(p)):\n",
    "    isbn = p.loc[i]['isbn_13']\n",
    "    if isbn in merged_dict:\n",
    "        if 'Reviews' in merged_dict[isbn]:\n",
    "            librarything_reviews = merged_dict[isbn]['Reviews']\n",
    "            p.loc[i]['librarything_reviews'] = librarything_reviews\n",
    "\n",
    "# Checking missing values(13 missing values. And there is no way collecting them, as they aren't there on the webiste itself)\n",
    "cnt = 0\n",
    "for i in range(len(p)):\n",
    "    isbn = p.loc[i]['isbn_13']\n",
    "    if  p.loc[i]['librarything_reviews'] == \"\":\n",
    "        cnt += 1\n",
    "print(cnt)"
   ]
  },
  {
   "cell_type": "code",
   "execution_count": 49,
   "id": "a6ee303f",
   "metadata": {},
   "outputs": [
    {
     "name": "stdout",
     "output_type": "stream",
     "text": [
      "13\n"
     ]
    }
   ],
   "source": [
    "# Adding librarything_popularity\n",
    "for i in range(len(p)):\n",
    "    isbn = p.loc[i]['isbn_13']\n",
    "    if isbn in merged_dict:\n",
    "        if 'Popularity' in merged_dict[isbn]:\n",
    "            librarything_popularity = merged_dict[isbn]['Popularity']\n",
    "            p.loc[i]['librarything_popularity'] = librarything_popularity\n",
    "\n",
    "# Checking missing values(13 missing values. And there is no way collecting them, as they aren't there on the webiste itself)\n",
    "cnt = 0\n",
    "for i in range(len(p)):\n",
    "    isbn = p.loc[i]['isbn_13']\n",
    "    if  p.loc[i]['librarything_popularity'] == \"\":\n",
    "        cnt += 1\n",
    "print(cnt)"
   ]
  },
  {
   "cell_type": "code",
   "execution_count": 63,
   "id": "f20a7536",
   "metadata": {},
   "outputs": [
    {
     "name": "stdout",
     "output_type": "stream",
     "text": [
      "13\n"
     ]
    }
   ],
   "source": [
    "# Adding librarything_conversations\n",
    "for i in range(len(p)):\n",
    "    isbn = p.loc[i]['isbn_13']\n",
    "    if isbn in merged_dict:\n",
    "        if 'Conversations' in merged_dict[isbn]:\n",
    "            librarything_conversations = merged_dict[isbn]['Conversations']\n",
    "            p.loc[i]['librarything_conversations'] = librarything_conversations\n",
    "        elif 'Conversations / Mentions' in merged_dict[isbn]:\n",
    "            librarything_conversations = merged_dict[isbn]['Conversations / Mentions'].split('/')[0].strip()\n",
    "            p.loc[i]['librarything_conversations'] = librarything_conversations\n",
    "        else:\n",
    "            librarything_conversations = 'None'\n",
    "            p.loc[i]['librarything_conversations'] = librarything_conversations\n",
    "\n",
    "# Checking missing values(13 missing values. And there is no way collecting them, as they aren't there on the webiste itself)\n",
    "cnt = 0\n",
    "for i in range(len(p)):\n",
    "    isbn = p.loc[i]['isbn_13']\n",
    "    if  p.loc[i]['librarything_conversations'] == \"\":\n",
    "        cnt += 1\n",
    "print(cnt)"
   ]
  },
  {
   "cell_type": "code",
   "execution_count": 64,
   "id": "1bc54b25",
   "metadata": {},
   "outputs": [
    {
     "name": "stdout",
     "output_type": "stream",
     "text": [
      "13\n"
     ]
    }
   ],
   "source": [
    "# Adding librarything_mentions\n",
    "for i in range(len(p)):\n",
    "    isbn = p.loc[i]['isbn_13']\n",
    "    if isbn in merged_dict:\n",
    "        if 'Mentions' in merged_dict[isbn]:\n",
    "            librarything_mentions = merged_dict[isbn]['Mentions']\n",
    "            p.loc[i]['librarything_mentions'] = librarything_mentions\n",
    "        elif 'Conversations / Mentions' in merged_dict[isbn]:\n",
    "            librarything_mentions = merged_dict[isbn]['Conversations / Mentions'].split('/')[1].strip()\n",
    "            p.loc[i]['librarything_mentions'] = librarything_mentions\n",
    "        else:\n",
    "            librarything_conversations = 'None'\n",
    "            p.loc[i]['librarything_mentions'] = librarything_mentions\n",
    "\n",
    "# Checking missing values(13 missing values. And there is no way collecting them, as they aren't there on the webiste itself)\n",
    "cnt = 0\n",
    "for i in range(len(p)):\n",
    "    isbn = p.loc[i]['isbn_13']\n",
    "    if  p.loc[i]['librarything_mentions'] == \"\":\n",
    "        cnt += 1\n",
    "print(cnt)"
   ]
  },
  {
   "cell_type": "code",
   "execution_count": 107,
   "id": "da2dc4f1",
   "metadata": {},
   "outputs": [
    {
     "name": "stdout",
     "output_type": "stream",
     "text": [
      "3003\n"
     ]
    }
   ],
   "source": [
    "# Adding librarything_characters\n",
    "for i in range(len(p)):\n",
    "    isbn = p.loc[i]['isbn_13']\n",
    "    if isbn in merged_dict:\n",
    "        if 'characters' in merged_dict[isbn] and merged_dict[isbn]['characters'] != ['']:\n",
    "            librarything_characters = merged_dict[isbn]['characters']\n",
    "            p.loc[i]['librarything_characters'] = librarything_characters\n",
    "\n",
    "# Checking missing values(3003 missing values(including 13 missing books))\n",
    "cnt = 0\n",
    "for i in range(len(p)):\n",
    "    isbn = p.loc[i]['isbn_13']\n",
    "    if  p.loc[i]['librarything_characters'] == \"\":\n",
    "        cnt += 1\n",
    "print(cnt)"
   ]
  },
  {
   "cell_type": "code",
   "execution_count": 105,
   "id": "e947d09e",
   "metadata": {},
   "outputs": [
    {
     "name": "stdout",
     "output_type": "stream",
     "text": [
      "169\n"
     ]
    }
   ],
   "source": [
    "# Adding librarything_book_summary\n",
    "for i in range(len(p)):\n",
    "    isbn = p.loc[i]['isbn_13']\n",
    "    if isbn in merged_dict:\n",
    "        if 'summary' in merged_dict[isbn]:\n",
    "            librarything_book_summary = merged_dict[isbn]['summary']\n",
    "            p.loc[i]['librarything_book_summary'] = librarything_book_summary\n",
    "        else:\n",
    "            driver.get(merged_dict[isbn]['library_thing_url'])\n",
    "            time.sleep(1)\n",
    "            try:\n",
    "                wsl_summary = driver.find_element_by_class_name(\"wslsummary\").get_attribute(\"innerHTML\")\n",
    "                soup = BeautifulSoup(wsl_summary, \"html.parser\")\n",
    "                summary = soup.find(\"td\").text\n",
    "                merged_dict[isbn]['summary'] = summary\n",
    "            except:\n",
    "                merged_dict[isbn]['summary'] = \"\"\n",
    "\n",
    "# Checking missing values(169 missing values(including 13 missing books))\n",
    "cnt = 0\n",
    "for i in range(len(p)):\n",
    "    if  p.loc[i]['librarything_book_summary'] == \"\":\n",
    "        cnt += 1\n",
    "print(cnt)"
   ]
  },
  {
   "cell_type": "code",
   "execution_count": 109,
   "id": "42fb2564",
   "metadata": {},
   "outputs": [],
   "source": [
    "# Saving updated merged_dict into the file\n",
    "f = open(\"generated_files/merged_dict.txt\", \"w\")\n",
    "f.write(str(merged_dict))\n",
    "f.close()"
   ]
  },
  {
   "cell_type": "code",
   "execution_count": 110,
   "id": "6167e39a",
   "metadata": {},
   "outputs": [],
   "source": [
    "pickle.dump(p, open(\"books_v7.pkl\", \"wb\"))"
   ]
  },
  {
   "cell_type": "code",
   "execution_count": 111,
   "id": "6ddd7e91",
   "metadata": {},
   "outputs": [],
   "source": [
    "p.to_csv(\"books_v7.csv\")"
   ]
  }
 ],
 "metadata": {
  "kernelspec": {
   "display_name": "Python 3",
   "language": "python",
   "name": "python3"
  },
  "language_info": {
   "codemirror_mode": {
    "name": "ipython",
    "version": 3
   },
   "file_extension": ".py",
   "mimetype": "text/x-python",
   "name": "python",
   "nbconvert_exporter": "python",
   "pygments_lexer": "ipython3",
   "version": "3.7.8"
  }
 },
 "nbformat": 4,
 "nbformat_minor": 5
}
